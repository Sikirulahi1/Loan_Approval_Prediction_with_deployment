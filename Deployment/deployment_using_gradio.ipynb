{
  "cells": [
    {
      "cell_type": "code",
      "source": [
        "from google.colab import drive\n",
        "drive.mount('/content/drive')"
      ],
      "metadata": {
        "colab": {
          "base_uri": "https://localhost:8080/"
        },
        "id": "s_bu--3oDN26",
        "outputId": "d4b4cd46-7e06-4198-a74f-b3e2bd2c4a2e"
      },
      "id": "s_bu--3oDN26",
      "execution_count": 1,
      "outputs": [
        {
          "output_type": "stream",
          "name": "stdout",
          "text": [
            "Mounted at /content/drive\n"
          ]
        }
      ]
    },
    {
      "cell_type": "code",
      "source": [
        "pip install gradio"
      ],
      "metadata": {
        "id": "gbJyxN-vEtG7"
      },
      "id": "gbJyxN-vEtG7",
      "execution_count": null,
      "outputs": []
    },
    {
      "cell_type": "code",
      "source": [
        "import gradio as gr"
      ],
      "metadata": {
        "id": "SRNdydf4E-Vt"
      },
      "id": "SRNdydf4E-Vt",
      "execution_count": 217,
      "outputs": []
    },
    {
      "cell_type": "code",
      "execution_count": 218,
      "id": "5df632d7",
      "metadata": {
        "id": "5df632d7"
      },
      "outputs": [],
      "source": [
        "import pickle\n",
        "import pandas as pd\n",
        "import numpy as np\n",
        "from sklearn.ensemble import RandomForestClassifier"
      ]
    },
    {
      "cell_type": "code",
      "source": [
        "import warnings\n",
        "\n",
        "# Filter out a specific warning\n",
        "warnings.filterwarnings(\"ignore\")"
      ],
      "metadata": {
        "id": "kYBA6zFodneO"
      },
      "id": "kYBA6zFodneO",
      "execution_count": 219,
      "outputs": []
    },
    {
      "cell_type": "code",
      "execution_count": 220,
      "id": "79d8b135",
      "metadata": {
        "id": "79d8b135"
      },
      "outputs": [],
      "source": [
        "with open(\"../content/drive/MyDrive/Projects/LoanApproval-Prediction/Saved_pickle_files/model.pkl\", 'rb') as f:\n",
        "    model = pickle.load(f)"
      ]
    },
    {
      "cell_type": "code",
      "execution_count": 221,
      "id": "7355b8ef",
      "metadata": {
        "id": "7355b8ef"
      },
      "outputs": [],
      "source": [
        "with open(\"../content/drive/MyDrive/Projects/LoanApproval-Prediction/Saved_pickle_files/min_max_dict.json\", 'rb') as f:\n",
        "    min_max_dict = pickle.load(f)"
      ]
    },
    {
      "cell_type": "code",
      "source": [
        "# elements = ['no_of_dependents', 'education', 'self_employed', 'income_annum', 'loan_amount', 'loan_term', 'cibil_score', 'residential_assets_value',\n",
        "#                        'commercial_assets_value', 'luxury_assets_value', 'bank_asset_value']"
      ],
      "metadata": {
        "id": "hfeGGWVyHNL5"
      },
      "id": "hfeGGWVyHNL5",
      "execution_count": 222,
      "outputs": []
    },
    {
      "cell_type": "code",
      "source": [
        "cat_dict = {}\n",
        "\n",
        "cat_dict[\"education\"] = {\"Graduate\" : 0, \"Not Graduate\" : 1}\n",
        "cat_dict[\"self_employed\"] = {\"No\":0, \"Yes\":1}"
      ],
      "metadata": {
        "id": "dzWQE67zeUli"
      },
      "id": "dzWQE67zeUli",
      "execution_count": 223,
      "outputs": []
    },
    {
      "cell_type": "code",
      "source": [
        "def encode_values(value):\n",
        "  if value == \"Graduate\" or value == \"Not Graduate\":\n",
        "    return cat_dict['education'][value]\n",
        "  else:\n",
        "    return cat_dict['self_employed'][value]"
      ],
      "metadata": {
        "id": "CPANle2DG2ZN"
      },
      "id": "CPANle2DG2ZN",
      "execution_count": 224,
      "outputs": []
    },
    {
      "cell_type": "code",
      "source": [
        "def scale_dict(min_max_dict, element, number):\n",
        "    x_max = min_max_dict[element]['max']\n",
        "    x_min = min_max_dict[element]['min']\n",
        "    result = (number - x_min)/ (x_max - x_min)\n",
        "    return result"
      ],
      "metadata": {
        "id": "9yr5P6mXG2ka"
      },
      "id": "9yr5P6mXG2ka",
      "execution_count": 225,
      "outputs": []
    },
    {
      "cell_type": "code",
      "execution_count": 226,
      "id": "4169b3aa",
      "metadata": {
        "id": "4169b3aa"
      },
      "outputs": [],
      "source": [
        "def deployment_pipeline(no_of_dependents, education, self_employed, income_annum, loan_amount, loan_term, cibil_score, residential_assets_value,\n",
        "                       commercial_assets_value, luxury_assets_value, bank_asset_value):\n",
        "  elements = ['no_of_dependents', 'education', 'self_employed', 'income_annum', 'loan_amount', 'loan_term', 'cibil_score', 'residential_assets_value',\n",
        "                       'commercial_assets_value', 'luxury_assets_value', 'bank_asset_value']\n",
        "  columns = [no_of_dependents, education, self_employed, income_annum, loan_amount, loan_term, cibil_score,\n",
        "             residential_assets_value, commercial_assets_value, luxury_assets_value, bank_asset_value]\n",
        "\n",
        "  cat_columns = [education, self_employed]\n",
        "  for i in cat_columns:\n",
        "    val = encode_values(i)\n",
        "    target_index = columns.index(i)\n",
        "    columns[target_index] = val\n",
        "\n",
        "\n",
        "\n",
        "  result_list = []\n",
        "  for i in range(len(columns)):\n",
        "    result = scale_dict(min_max_dict, elements[i], columns[i])\n",
        "    result_list.append(result)\n",
        "\n",
        "  result_array = np.array(result_list).reshape(1, -1)\n",
        "  y = model.predict(result_array)[0]\n",
        "  return y"
      ]
    },
    {
      "cell_type": "code",
      "source": [
        "interface = gr.Interface(\n",
        "    fn=deployment_pipeline,\n",
        "    inputs=[\n",
        "        gr.Slider(0, 10),\n",
        "        gr.Radio([\"Graduate\", \"Not Graduate\"]),  # Assuming education is a categorical variable\n",
        "        gr.Radio([\"Yes\", \"No\"]),  # Assuming self_employed is a binary variable\n",
        "        \"number\", \"number\",\n",
        "        gr.Slider(0, 20),\n",
        "        gr.Slider(0, 1000),\n",
        "        \"number\", \"number\", \"number\", \"number\"\n",
        "    ],\n",
        "    outputs=\"text\",\n",
        "    examples=[[2, 'Graduate', \"Yes\", 9600000, 29900000, 12, 778, 2400000, 17600000, 22700000, 8000000],\n",
        "              [2, \"Not Graduate\",\t\"Yes\",\t4100000,\t12200000,\t8,\t417,\t2700000,\t2200000,\t8800000,\t3300000]],\n",
        "    title=\"Loan Approval Prediction\",\n",
        "    live=True,\n",
        "    description=\"The goal of this project is to develop a machine learning model that predicts whether a loan application should be approved or rejected based on various applicant features. The model aims to assist financial institutions in automating the loan approval process, making it more efficient.\"\n",
        ")\n",
        "\n",
        "interface.launch()\n"
      ],
      "metadata": {
        "colab": {
          "base_uri": "https://localhost:8080/",
          "height": 653
        },
        "id": "5bJGuuc3H1OH",
        "outputId": "e4873874-f924-4c08-cd97-111087f2c62f"
      },
      "id": "5bJGuuc3H1OH",
      "execution_count": 227,
      "outputs": [
        {
          "output_type": "stream",
          "name": "stdout",
          "text": [
            "Setting queue=True in a Colab notebook requires sharing enabled. Setting `share=True` (you can turn this off by setting `share=False` in `launch()` explicitly).\n",
            "\n",
            "Colab notebook detected. To show errors in colab notebook, set debug=True in launch()\n",
            "Running on public URL: https://a0373c66eaa396875c.gradio.live\n",
            "\n",
            "This share link expires in 72 hours. For free permanent hosting and GPU upgrades, run `gradio deploy` from Terminal to deploy to Spaces (https://huggingface.co/spaces)\n"
          ]
        },
        {
          "output_type": "display_data",
          "data": {
            "text/plain": [
              "<IPython.core.display.HTML object>"
            ],
            "text/html": [
              "<div><iframe src=\"https://a0373c66eaa396875c.gradio.live\" width=\"100%\" height=\"500\" allow=\"autoplay; camera; microphone; clipboard-read; clipboard-write;\" frameborder=\"0\" allowfullscreen></iframe></div>"
            ]
          },
          "metadata": {}
        },
        {
          "output_type": "execute_result",
          "data": {
            "text/plain": []
          },
          "metadata": {},
          "execution_count": 227
        }
      ]
    }
  ],
  "metadata": {
    "kernelspec": {
      "display_name": "Python 3 (ipykernel)",
      "language": "python",
      "name": "python3"
    },
    "language_info": {
      "codemirror_mode": {
        "name": "ipython",
        "version": 3
      },
      "file_extension": ".py",
      "mimetype": "text/x-python",
      "name": "python",
      "nbconvert_exporter": "python",
      "pygments_lexer": "ipython3",
      "version": "3.9.7"
    },
    "colab": {
      "provenance": []
    }
  },
  "nbformat": 4,
  "nbformat_minor": 5
}